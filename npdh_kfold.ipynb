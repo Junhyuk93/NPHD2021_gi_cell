{
 "cells": [
  {
   "cell_type": "code",
   "execution_count": 11,
   "id": "2674ce21-687e-4b05-ba6d-fa70d5328f13",
   "metadata": {},
   "outputs": [],
   "source": [
    "stratified = True\n",
    "k = 5\n",
    "\n",
    "save_org = False  # 대회에서 나누어준 train, test set을 csv로 저장 여부\n",
    "\n",
    "py_random_seed = 42\n",
    "np_random_seed = 42\n",
    "kfold_random_state = 42\n",
    "\n",
    "base_path = '/opt/ml/input/a-trac-colon'\n",
    "colon_positive_dir = 'colon_positive'\n",
    "colon_negative_dir = 'colon_negative'\n",
    "colon_positive_test_dir = 'colon_positive_test'\n",
    "colon_negative_test_dir = 'colon_negative_test'\n",
    "\n",
    "train_csv_file_prefix = './train_'\n",
    "test_csv_file_prefix = './test_'"
   ]
  },
  {
   "cell_type": "code",
   "execution_count": 20,
   "id": "0a3ea0c5-4bc8-44f2-8666-ce2cf5905b36",
   "metadata": {},
   "outputs": [],
   "source": [
    "import os\n",
    "import random\n",
    "\n",
    "import numpy as np\n",
    "import pandas as pd\n",
    "from sklearn.model_selection import KFold, StratifiedKFold"
   ]
  },
  {
   "cell_type": "markdown",
   "id": "d3b57af3-bd12-4967-a669-384b20545063",
   "metadata": {},
   "source": [
    "## Set random seed"
   ]
  },
  {
   "cell_type": "code",
   "execution_count": 3,
   "id": "6c5d9360-3c6b-485d-bcd1-fa412a3940b2",
   "metadata": {},
   "outputs": [],
   "source": [
    "random.seed(py_random_seed)\n",
    "np.random.seed(np_random_seed)"
   ]
  },
  {
   "cell_type": "markdown",
   "id": "746995de-416f-43a4-bc5e-361ef426515e",
   "metadata": {},
   "source": [
    "## Collect All Images"
   ]
  },
  {
   "cell_type": "code",
   "execution_count": 30,
   "id": "0ba56b69-6690-411c-b2f1-2f5b3dc7f01f",
   "metadata": {},
   "outputs": [],
   "source": [
    "all_images = list() # list of (image_id, image_path, labels)"
   ]
  },
  {
   "cell_type": "code",
   "execution_count": 31,
   "id": "10d49151-46f4-48a0-aff9-8f5b6338338a",
   "metadata": {},
   "outputs": [],
   "source": [
    "train_positive_file_names = os.listdir(os.path.join(base_path, colon_positive_dir))\n",
    "train_negative_file_names = os.listdir(os.path.join(base_path, colon_negative_dir))\n",
    "test_positive_file_names = os.listdir(os.path.join(base_path, colon_positive_test_dir))\n",
    "test_negative_file_names = os.listdir(os.path.join(base_path, colon_negative_test_dir))"
   ]
  },
  {
   "cell_type": "code",
   "execution_count": 32,
   "id": "963617ae-40ce-49be-9888-9c14f022896d",
   "metadata": {},
   "outputs": [],
   "source": [
    "train_negative_images = [(file_name, os.path.join(base_path, colon_negative_dir, file_name), 0) \n",
    "                         for file_name in train_negative_file_names]\n",
    "train_positive_images = [(file_name, os.path.join(base_path, colon_positive_dir, file_name), 1) \n",
    "                         for file_name in train_positive_file_names]\n",
    "test_negative_images = [(file_name, os.path.join(base_path, colon_negative_test_dir, file_name), 0) \n",
    "                        for file_name in test_negative_file_names]\n",
    "test_positive_images = [(file_name, os.path.join(base_path, colon_positive_test_dir, file_name), 1) \n",
    "                        for file_name in test_positive_file_names]"
   ]
  },
  {
   "cell_type": "code",
   "execution_count": 33,
   "id": "556960b2-6690-482a-8376-97dd11c7c75d",
   "metadata": {},
   "outputs": [],
   "source": [
    "all_images.extend(train_negative_images)\n",
    "all_images.extend(train_positive_images)\n",
    "all_images.extend(test_negative_images)\n",
    "all_images.extend(test_positive_images)"
   ]
  },
  {
   "cell_type": "markdown",
   "id": "7696782b-4fc9-4d7a-9d7a-e7ccf131f94d",
   "metadata": {},
   "source": [
    "## Save Orginal Train, Test Set to CSV"
   ]
  },
  {
   "cell_type": "code",
   "execution_count": 34,
   "id": "57e14bd7-f41a-4425-ad43-a30412184e9e",
   "metadata": {},
   "outputs": [],
   "source": [
    "if save_org:\n",
    "    train_pd = pd.DataFrame(train_negative_images+train_positive_images, columns = ['image_id','image_path','labels'])\n",
    "    test_pd = pd.DataFrame(test_negative_images+test_positive_images, columns = ['image_id','image_path','labels'])\n",
    "    \n",
    "    train_pd = train_pd.sort_values(by=['image_path']).reset_index(drop=True)\n",
    "    test_pd = test_pd.sort_values(by=['image_path']).reset_index(drop=True)\n",
    "    \n",
    "    train_pd.to_csv(train_csv_file_prefix + 'org' + '.csv')\n",
    "    test_pd.to_csv(test_csv_file_prefix + 'org' + '.csv')"
   ]
  },
  {
   "cell_type": "markdown",
   "id": "cb99e947-e5ce-4ec0-99c1-15aeddf85a67",
   "metadata": {},
   "source": [
    "## Configure K's Train, Test Set"
   ]
  },
  {
   "cell_type": "code",
   "execution_count": 35,
   "id": "3705e38b-08aa-4e07-88d0-a23711dff76f",
   "metadata": {},
   "outputs": [],
   "source": [
    "all_images_pd = pd.DataFrame(all_images, columns = ['image_id','image_path','labels'])"
   ]
  },
  {
   "cell_type": "code",
   "execution_count": 36,
   "id": "a46e74c6-dcac-46cd-9a43-2e61bc2a3f89",
   "metadata": {},
   "outputs": [],
   "source": [
    "if stratified:\n",
    "    skf = StratifiedKFold(n_splits=k, random_state=kfold_random_state, shuffle=True)\n",
    "    k_split_sets = skf.split(np.zeros(len(all_images_pd)), all_images_pd['labels'])\n",
    "else:\n",
    "    skf = KFold(n_splits=k, random_state=kfold_random_state, shuffle=True)\n",
    "    k_split_sets = skf.split(all_images_pd)\n",
    "\n",
    "for i_set, (train_indexes, test_indexes) in enumerate(k_split_sets):\n",
    "    split_train_images_pd = all_images_pd.iloc[train_indexes, :]\n",
    "    split_test_images_pd = all_images_pd.iloc[test_indexes, :]\n",
    "    \n",
    "    split_train_images_pd = split_train_images_pd.sort_values(by=['image_path']).reset_index(drop=True)\n",
    "    split_test_images_pd = split_test_images_pd.sort_values(by=['image_path']).reset_index(drop=True)\n",
    "    \n",
    "    split_train_images_pd.to_csv(f'{train_csv_file_prefix}{i_set+1}_{k}.csv')\n",
    "    split_test_images_pd.to_csv(f'{test_csv_file_prefix}{i_set+1}_{k}.csv')\n"
   ]
  },
  {
   "cell_type": "code",
   "execution_count": null,
   "id": "77a54ecb-8278-4dfa-8a32-cb105ef4b4bb",
   "metadata": {},
   "outputs": [],
   "source": []
  }
 ],
 "metadata": {
  "kernelspec": {
   "display_name": "Python 3 (ipykernel)",
   "language": "python",
   "name": "python3"
  },
  "language_info": {
   "codemirror_mode": {
    "name": "ipython",
    "version": 3
   },
   "file_extension": ".py",
   "mimetype": "text/x-python",
   "name": "python",
   "nbconvert_exporter": "python",
   "pygments_lexer": "ipython3",
   "version": "3.8.5"
  }
 },
 "nbformat": 4,
 "nbformat_minor": 5
}
