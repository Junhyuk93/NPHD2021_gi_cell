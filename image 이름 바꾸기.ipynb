{
 "cells": [
  {
   "cell_type": "code",
   "execution_count": 4,
   "id": "3f53aa24-d9af-419f-99fb-caa4f7fe6fc4",
   "metadata": {
    "tags": []
   },
   "outputs": [],
   "source": [
    "import os\n",
    "\n",
    "file_path = '/opt/ml/nunbody/nunbody_segmentation/data_pure/val/masks'\n",
    "file_names = os.listdir(file_path)\n",
    "file_names\n",
    "\n",
    "for name in file_names:\n",
    "    if name.startswith('.'):\n",
    "        continue\n",
    "    src = os.path.join(file_path, name)\n",
    "    dst = name.replace(\".grayscale\",\"\")\n",
    "    dst = os.path.join(file_path, dst)\n",
    "    os.rename(src, dst)"
   ]
  },
  {
   "cell_type": "code",
   "execution_count": 1,
   "id": "2559dd16-b48a-4044-adfc-18cff1e74ed9",
   "metadata": {},
   "outputs": [],
   "source": [
    "import os\n",
    "\n",
    "file_path = '/opt/ml/nunbody/nunbody_segmentation/test' #'/opt/ml/nunbody/nunbody_segmentation/data/val/masks'\n",
    "file_names = os.listdir(file_path)\n",
    "file_names\n",
    "\n",
    "for name in file_names:\n",
    "    src = os.path.join(file_path, name)\n",
    "    if \".grayscale\" in name:\n",
    "        dst = os.path.join('/opt/ml/nunbody/nunbody_segmentation/data_pure/val','masks', name)\n",
    "    else : \n",
    "        dst = os.path.join('/opt/ml/nunbody/nunbody_segmentation/data_pure/val','images',name)\n",
    "    os.rename(src, dst)"
   ]
  },
  {
   "cell_type": "code",
   "execution_count": 9,
   "id": "9f761c84-6e96-47e4-a270-552de0e0119e",
   "metadata": {},
   "outputs": [
    {
     "data": {
      "text/plain": [
       "'032_05.grayscale.png'"
      ]
     },
     "execution_count": 9,
     "metadata": {},
     "output_type": "execute_result"
    }
   ],
   "source": [
    "name"
   ]
  },
  {
   "cell_type": "code",
   "execution_count": 3,
   "id": "fb25cc79-4ad0-4927-9be8-443baa090384",
   "metadata": {},
   "outputs": [
    {
     "data": {
      "text/plain": [
       "True"
      ]
     },
     "execution_count": 3,
     "metadata": {},
     "output_type": "execute_result"
    }
   ],
   "source": [
    "'...aa'.startswith('.')"
   ]
  },
  {
   "cell_type": "code",
   "execution_count": 17,
   "id": "aa92d14b-32f6-47b8-af51-9d81855ecfbe",
   "metadata": {},
   "outputs": [
    {
     "data": {
      "text/plain": [
       "'/opt/ml/nunbody/nunbody_segmentation/test/masks/032_05.png'"
      ]
     },
     "execution_count": 17,
     "metadata": {},
     "output_type": "execute_result"
    }
   ],
   "source": [
    "dst"
   ]
  },
  {
   "cell_type": "code",
   "execution_count": null,
   "id": "f477b70d-f380-4737-a50b-f4086e4b6107",
   "metadata": {},
   "outputs": [],
   "source": []
  }
 ],
 "metadata": {
  "kernelspec": {
   "display_name": "Python 3 (ipykernel)",
   "language": "python",
   "name": "python3"
  },
  "language_info": {
   "codemirror_mode": {
    "name": "ipython",
    "version": 3
   },
   "file_extension": ".py",
   "mimetype": "text/x-python",
   "name": "python",
   "nbconvert_exporter": "python",
   "pygments_lexer": "ipython3",
   "version": "3.8.5"
  }
 },
 "nbformat": 4,
 "nbformat_minor": 5
}
